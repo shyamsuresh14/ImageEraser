{
 "cells": [
  {
   "cell_type": "code",
   "execution_count": 37,
   "metadata": {},
   "outputs": [],
   "source": [
    "import subprocess\n",
    "import SimpleITK as sitk\n",
    "import cv2\n",
    "import numpy as np\n",
    "import h5py\n",
    "import os"
   ]
  },
  {
   "cell_type": "code",
   "execution_count": 33,
   "metadata": {},
   "outputs": [],
   "source": [
    "#Paths\n",
    "\n",
    "mhdInputFile = 'D:\\\\dataset_seg\\\\xVertSeg.v1\\\\Data1\\\\images\\\\image004.mhd'\n",
    "pngDir = 'D:\\\\dataset_seg\\\\data\\\\imageSlices_004\\\\'\n",
    "\n",
    "ilastik_location = 'C:\\\\Program Files\\\\ilastik-1.3.2post1'\n",
    "ilastik_project = 'D:\\\\dataset_seg\\\\Ilastik\\\\proj1_b_2.ilp'\n",
    "\n",
    "indir = 'D:\\\\dataset_seg\\\\data\\\\imageSlices_004\\\\' \n",
    "outdir = 'D:\\\\dataset_seg\\\\test\\\\'\n",
    "\n",
    "infiles = \"*.png\"\n",
    "outputFileName = \"results004\""
   ]
  },
  {
   "cell_type": "code",
   "execution_count": 36,
   "metadata": {},
   "outputs": [
    {
     "name": "stdout",
     "output_type": "stream",
     "text": [
      "Creating directory: D:\\dataset_seg\\data\\imageSlices_006\\\n"
     ]
    }
   ],
   "source": [
    "#creating pngDir\n",
    "if not (os.path.exists(pngDir) and os.path.isdir(pngDir)):\n",
    "    print(\"Creating directory: \" + pngDir)\n",
    "    try:\n",
    "        os.mkdir(pngDir)\n",
    "    except Exception as e:\n",
    "        print(\"Error creating directory: \" + pngDir + \"\\n\" + e)   "
   ]
  },
  {
   "cell_type": "code",
   "execution_count": 26,
   "metadata": {},
   "outputs": [],
   "source": [
    "#.mhd to .pngs\n",
    "\n",
    "def convertToGrayScaleRange(image, m):\n",
    "    new_img = np.array(image)\n",
    "    new_img[:, :] = (image/m)*255\n",
    "    return new_img\n",
    "\n",
    "\n",
    "img = sitk.ReadImage(mhdInputFile)\n",
    "img_spacing = img.GetSpacing()\n",
    "\n",
    "no = sitk.GetArrayViewFromImage(img).shape[0]\n",
    "shape = 0\n",
    "m = 0\n",
    "for j in range(no):\n",
    "    view = sitk.GetArrayViewFromImage(img)[j, :, :]\n",
    "    if max(np.unique(view)) > m:\n",
    "        m = max(np.unique(view))   \n",
    "\n",
    "for k in range(no):\n",
    "    view = sitk.GetArrayViewFromImage(img)[k, :, :]\n",
    "    grayView = convertToGrayScaleRange(view, m)\n",
    "    ind = str(k+1)\n",
    "    if len(ind) < 3:\n",
    "        ind = \"0\"*(3 - len(ind)) + ind\n",
    "    grayView = cv2.resize(grayView, (1024, 1024)) \n",
    "    cv2.imwrite(pngDir + \"slice\" + ind + \".png\", grayView)"
   ]
  },
  {
   "cell_type": "code",
   "execution_count": 18,
   "metadata": {},
   "outputs": [
    {
     "name": "stdout",
     "output_type": "stream",
     "text": [
      "\n",
      "\n",
      "ilastik.exe --headless --project=\"D:\\dataset_seg\\Ilastik\\proj1_b_2.ilp\" --export_source=\"probabilities\" --export_dtype=\"float32\" --output_filename_format=\"D:\\dataset_seg\\test\\results004\" --raw_data=\"D:\\dataset_seg\\data\\imageSlices_004\\*.png\"\n"
     ]
    }
   ],
   "source": [
    "#using the ilastik project for predictions \n",
    "\n",
    "os.chdir(ilastik_location)\n",
    "command = 'ilastik.exe --headless '\n",
    "command += '--project=\"' + ilastik_project + '\" '\n",
    "command += '--export_source=\"probabilities\" ' \n",
    "command += '--export_dtype=\"float32\" ' \n",
    "command += '--output_filename_format=\"' + outdir + outputFileName + '\" ' \n",
    "command += '--raw_data=\"' + indir + infiles + '\"'\n",
    "print(\"\\n\\n%s\" % command)\n",
    "#subprocess.call(command, shell=True)"
   ]
  },
  {
   "cell_type": "code",
   "execution_count": 29,
   "metadata": {},
   "outputs": [],
   "source": [
    "#hdf5 to .mhd\n",
    "\n",
    "#Convert prob map to B&W\n",
    "def conv(x):    \n",
    "    a = x[:, :, 0]\n",
    "    b = x[:, :, 1]\n",
    "    a[a > 0.5] = True\n",
    "    a[a <= 0.5] = False\n",
    "    return a\n",
    "\n",
    "hdf = h5py.File(outdir + outputFileName + '.h5', 'r')\n",
    "data = hdf['exported_data']\n",
    "\n",
    "newData = []\n",
    "for i in range(data.shape[0]):\n",
    "    newData.append(conv(data[i]))\n",
    "\n",
    "newData = np.array(newData)\n",
    "newImg = sitk.GetImageFromArray(newData)\n",
    "newImg.SetSpacing(img_spacing)\n",
    "\n",
    "sitk.WriteImage(newImg, outdir + outputFileName + \".mhd\")"
   ]
  },
  {
   "cell_type": "code",
   "execution_count": 28,
   "metadata": {},
   "outputs": [
    {
     "data": {
      "text/plain": [
       "array([0.        , 0.01      , 0.02      , 0.03      , 0.04      ,\n",
       "       0.05      , 0.06      , 0.07      , 0.08      , 0.09      ,\n",
       "       0.1       , 0.11      , 0.12      , 0.13      , 0.14      ,\n",
       "       0.15      , 0.16      , 0.17      , 0.18      , 0.19      ,\n",
       "       0.2       , 0.21      , 0.22      , 0.23      , 0.24      ,\n",
       "       0.25      , 0.26      , 0.27      , 0.28      , 0.29      ,\n",
       "       0.3       , 0.31      , 0.32      , 0.33      , 0.34      ,\n",
       "       0.35      , 0.36      , 0.37      , 0.38      , 0.39      ,\n",
       "       0.4       , 0.41      , 0.42      , 0.43      , 0.44      ,\n",
       "       0.45      , 0.46      , 0.47      , 0.48      , 0.49      ,\n",
       "       0.5       , 0.51      , 0.52      , 0.53      , 0.53000003,\n",
       "       0.54      , 0.55      , 0.56      , 0.56000006, 0.57      ,\n",
       "       0.57000005, 0.58      , 0.58000004, 0.59      , 0.59000003,\n",
       "       0.6       , 0.61      , 0.62      , 0.62000006, 0.63      ,\n",
       "       0.63000005, 0.64      , 0.65      , 0.66      , 0.67      ,\n",
       "       0.68      , 0.69      , 0.7       , 0.71      , 0.72      ,\n",
       "       0.73      , 0.74      , 0.75      , 0.76      , 0.77      ,\n",
       "       0.78      , 0.79      , 0.8       , 0.81      , 0.82      ,\n",
       "       0.83      , 0.84      , 0.85      , 0.86      , 0.87      ,\n",
       "       0.88      , 0.89      , 0.9       , 0.91      , 0.92      ,\n",
       "       0.93      , 0.94      , 0.95      , 0.96      , 0.97      ,\n",
       "       0.98      , 0.99      , 1.        ], dtype=float32)"
      ]
     },
     "execution_count": 28,
     "metadata": {},
     "output_type": "execute_result"
    }
   ],
   "source": [
    "np.unique(data[i])\n"
   ]
  }
 ],
 "metadata": {
  "kernelspec": {
   "display_name": "Python 3",
   "language": "python",
   "name": "python3"
  },
  "language_info": {
   "codemirror_mode": {
    "name": "ipython",
    "version": 3
   },
   "file_extension": ".py",
   "mimetype": "text/x-python",
   "name": "python",
   "nbconvert_exporter": "python",
   "pygments_lexer": "ipython3",
   "version": "3.6.5"
  }
 },
 "nbformat": 4,
 "nbformat_minor": 2
}
