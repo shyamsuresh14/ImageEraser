{
 "cells": [
  {
   "cell_type": "code",
   "execution_count": 56,
   "metadata": {},
   "outputs": [],
   "source": [
    "import SimpleITK as sitk\n",
    "import matplotlib.pyplot as plt\n",
    "import numpy as np\n",
    "import cv2\n",
    "import h5py\n",
    "import os\n",
    "import pydicom"
   ]
  },
  {
   "cell_type": "code",
   "execution_count": 7,
   "metadata": {},
   "outputs": [],
   "source": [
    "#Convert prob map to B&W\n",
    "def conv(x):    \n",
    "    a = x[:, :, 0]\n",
    "    b = x[:, :, 1]\n",
    "    a[a > 0.5] = True\n",
    "    a[a <= 0.5] = False\n",
    "    return a\n",
    "\n",
    "hdf = h5py.File(\"D:\\\\dataset_seg\\\\data_2\\\\phantom_results_yz.h5\", 'r')\n",
    "data = hdf['exported_data']\n",
    "\n",
    "newData = []\n",
    "for i in range(data.shape[0]):\n",
    "    bwOut = conv(data[i])\n",
    "    bwOut = cv2.resize(bwOut, (512,446))\n",
    "    newData.append(bwOut)\n",
    "\n",
    "newData = np.array(newData)\n"
   ]
  },
  {
   "cell_type": "code",
   "execution_count": 8,
   "metadata": {},
   "outputs": [
    {
     "data": {
      "text/plain": [
       "(512, 446, 512)"
      ]
     },
     "execution_count": 8,
     "metadata": {},
     "output_type": "execute_result"
    }
   ],
   "source": [
    "newData.shape"
   ]
  },
  {
   "cell_type": "code",
   "execution_count": 26,
   "metadata": {},
   "outputs": [],
   "source": [
    "t = sitk.ReadImage('D:\\\\dataset_seg\\\\Phantom_test_data\\\\SE00006\\\\IM00001')\n",
    "orig = t.GetOrigin()\n",
    "spacing = tuple(t.GetSpacing())\n",
    "direction = t.GetDirection()\n",
    "#newData = np.transpose(newData, (1,0,2))"
   ]
  },
  {
   "cell_type": "code",
   "execution_count": 40,
   "metadata": {},
   "outputs": [],
   "source": [
    "newD = []\n",
    "for i in range(446):\n",
    "    newD.append(newData[:, i, :])\n",
    "newD = np.array(newD)"
   ]
  },
  {
   "cell_type": "code",
   "execution_count": 60,
   "metadata": {},
   "outputs": [
    {
     "data": {
      "text/plain": [
       "(446, 512, 512)"
      ]
     },
     "execution_count": 60,
     "metadata": {},
     "output_type": "execute_result"
    }
   ],
   "source": [
    "newD.shape"
   ]
  },
  {
   "cell_type": "code",
   "execution_count": 43,
   "metadata": {},
   "outputs": [
    {
     "data": {
      "text/plain": [
       "<matplotlib.image.AxesImage at 0x23cd5f6a518>"
      ]
     },
     "execution_count": 43,
     "metadata": {},
     "output_type": "execute_result"
    },
    {
     "data": {
      "image/png": "[encoded data removed]",
      "text/plain": [
       "<Figure size 432x288 with 1 Axes>"
      ]
     },
     "metadata": {
      "needs_background": "light"
     },
     "output_type": "display_data"
    }
   ],
   "source": [
    "plt.imshow(newD[:, :, 256], cmap=\"gray\")"
   ]
  },
  {
   "cell_type": "code",
   "execution_count": 63,
   "metadata": {},
   "outputs": [],
   "source": [
    "newImg = sitk.GetImageFromArray(newD)\n",
    "newImg.SetSpacing(spacing)\n",
    "newImg.SetOrigin(orig)\n",
    "newImg.SetDirection((-1.0, 0.0, 0.0, 0.0, -1.0, 0.0, 0.0, 0.0, -1.0))\n",
    "sitk.WriteImage(newImg, \"D:\\\\dataset_seg\\\\data_2\\\\phantom_results_yz_1.mhd\")"
   ]
  },
  {
   "cell_type": "code",
   "execution_count": 64,
   "metadata": {},
   "outputs": [
    {
     "data": {
      "text/plain": [
       "((0.435, 0.435, 1.0), (0.435, 0.435, 1.0))"
      ]
     },
     "execution_count": 64,
     "metadata": {},
     "output_type": "execute_result"
    }
   ],
   "source": [
    "t.GetSpacing(), newImg.GetSpacing()"
   ]
  },
  {
   "cell_type": "code",
   "execution_count": 65,
   "metadata": {},
   "outputs": [
    {
     "data": {
      "text/plain": [
       "(-1.0, 0.0, 0.0, 0.0, -1.0, 0.0, 0.0, 0.0, 1.0)"
      ]
     },
     "execution_count": 65,
     "metadata": {},
     "output_type": "execute_result"
    }
   ],
   "source": [
    "t.GetDirection()"
   ]
  },
  {
   "cell_type": "code",
   "execution_count": 66,
   "metadata": {},
   "outputs": [
    {
     "data": {
      "text/plain": [
       "(-1.0, 0.0, 0.0, 0.0, -1.0, 0.0, 0.0, 0.0, -1.0)"
      ]
     },
     "execution_count": 66,
     "metadata": {},
     "output_type": "execute_result"
    }
   ],
   "source": [
    "newImg.GetDirection()"
   ]
  },
  {
   "cell_type": "code",
   "execution_count": 70,
   "metadata": {},
   "outputs": [
    {
     "data": {
      "text/plain": [
       "(1, 446)"
      ]
     },
     "execution_count": 70,
     "metadata": {},
     "output_type": "execute_result"
    }
   ],
   "source": [
    "t.GetDepth(), newImg.GetDepth()"
   ]
  },
  {
   "cell_type": "code",
   "execution_count": 54,
   "metadata": {},
   "outputs": [],
   "source": [
    "x = set()\n",
    "for i in os.listdir(\"D:\\\\dataset_seg\\\\Phantom_test_data\\\\SE00006\\\\\"):\n",
    "    temp = sitk.ReadImage(\"D:\\\\dataset_seg\\\\Phantom_test_data\\\\SE00006\\\\\" + i)\n",
    "    x.add(temp.GetDirection())"
   ]
  },
  {
   "cell_type": "code",
   "execution_count": 55,
   "metadata": {},
   "outputs": [
    {
     "data": {
      "text/plain": [
       "{(-1.0, 0.0, 0.0, 0.0, -1.0, 0.0, 0.0, 0.0, 1.0)}"
      ]
     },
     "execution_count": 55,
     "metadata": {},
     "output_type": "execute_result"
    }
   ],
   "source": [
    "x"
   ]
  },
  {
   "cell_type": "code",
   "execution_count": 58,
   "metadata": {},
   "outputs": [
    {
     "data": {
      "text/plain": [
       "(0008, 0008) Image Type                          CS: ['ORIGINAL', 'PRIMARY', 'AXIAL']\n",
       "(0008, 0016) SOP Class UID                       UI: CT Image Storage\n",
       "(0008, 0018) SOP Instance UID                    UI: 1.2.392.200036.9116.2.6.1.3268.2060387184.1556602571.113412\n",
       "(0008, 0020) Study Date                          DA: '20190430'\n",
       "(0008, 0021) Series Date                         DA: '20190430'\n",
       "(0008, 0022) Acquisition Date                    DA: '20190430'\n",
       "(0008, 0023) Content Date                        DA: '20190430'\n",
       "(0008, 0030) Study Time                          TM: '142153.000'\n",
       "(0008, 0031) Series Time                         TM: '143026.096'\n",
       "(0008, 0032) Acquisition Time                    TM: '143033.100'\n",
       "(0008, 0033) Content Time                        TM: '143034.236'\n",
       "(0008, 0050) Accession Number                    SH: '10676'\n",
       "(0008, 0060) Modality                            CS: 'CT'\n",
       "(0008, 0070) Manufacturer                        LO: 'TOSHIBA'\n",
       "(0008, 0080) Institution Name                    LO: 'MULTI SUPER SPECIALITY HOSPITAL OMANDURAR'\n",
       "(0008, 0081) Institution Address                 ST: 'TOSHIBA_MEC'\n",
       "(0008, 0090) Referring Physician's Name          PN: ''\n",
       "(0008, 1010) Station Name                        SH: 'ID_STATION'\n",
       "(0008, 103e) Series Description                  LO: 'Spine 1.0  Vol.'\n",
       "(0008, 1040) Institutional Department Name       LO: 'ID_DEPARTMENT'\n",
       "(0008, 1090) Manufacturer's Model Name           LO: 'Alexion'\n",
       "(0010, 0010) Patient's Name                      PN: 'SCAN TRACKER'\n",
       "(0010, 0020) Patient ID                          LO: 'TEST'\n",
       "(0010, 0030) Patient's Birth Date                DA: ''\n",
       "(0010, 0040) Patient's Sex                       CS: ''\n",
       "(0010, 1010) Patient's Age                       AS: '025Y'\n",
       "(0018, 0022) Scan Options                        CS: 'HELICAL_CT'\n",
       "(0018, 0050) Slice Thickness                     DS: \"1.0\"\n",
       "(0018, 0060) KVP                                 DS: \"120\"\n",
       "(0018, 0090) Data Collection Diameter            DS: \"350.00\"\n",
       "(0018, 1000) Device Serial Number                LO: 'SERIALNO'\n",
       "(0018, 1020) Software Version(s)                 LO: 'V6.06ER016'\n",
       "(0018, 1030) Protocol Name                       LO: 'Lumbar Spine 3mm'\n",
       "(0018, 1100) Reconstruction Diameter             DS: \"222.851\"\n",
       "(0018, 1120) Gantry/Detector Tilt                DS: \"+0.0\"\n",
       "(0018, 1130) Table Height                        DS: \"+138.00\"\n",
       "(0018, 1140) Rotation Direction                  CS: 'CW'\n",
       "(0018, 1150) Exposure Time                       IS: \"1000\"\n",
       "(0018, 1151) X-Ray Tube Current                  IS: \"130\"\n",
       "(0018, 1152) Exposure                            IS: \"130\"\n",
       "(0018, 1160) Filter Type                         SH: 'LARGE'\n",
       "(0018, 1170) Generator Power                     IS: \"15\"\n",
       "(0018, 1190) Focal Spot(s)                       DS: ['1.1', '1.1']\n",
       "(0018, 1210) Convolution Kernel                  SH: 'FC08'\n",
       "(0018, 5100) Patient Position                    CS: 'HFP'\n",
       "(0018, 9302) Acquisition Type                    CS: 'SPIRAL'\n",
       "(0018, 9305) Revolution Time                     FD: 1.0\n",
       "(0018, 9306) Single Collimation Width            FD: 1.0\n",
       "(0018, 9307) Total Collimation Width             FD: 16.0\n",
       "(0018, 9310) Table Feed per Rotation             FD: -11.0\n",
       "(0018, 9311) Spiral Pitch Factor                 FD: 0.688\n",
       "(0018, 9318) Reconstruction Target Center (Patie FD: [0.0, 0.0, -989.5]\n",
       "(0018, 9327) Table Position                      FD: 0.0\n",
       "(0018, 9334) Fluoroscopy Flag                    CS: 'NO'\n",
       "(0018, 9345) CTDIvol                             FD: 19.1\n",
       "(0020, 000d) Study Instance UID                  UI: 1.2.392.200036.9116.2.6.1.3268.2060387184.1556601712.843970\n",
       "(0020, 000e) Series Instance UID                 UI: 1.2.392.200036.9116.2.6.1.3268.2060387184.1556602563.698943\n",
       "(0020, 0010) Study ID                            SH: '10676'\n",
       "(0020, 0011) Series Number                       IS: \"6\"\n",
       "(0020, 0012) Acquisition Number                  IS: \"2\"\n",
       "(0020, 0013) Instance Number                     IS: \"1\"\n",
       "(0020, 0020) Patient Orientation                 CS: ['R', 'A']\n",
       "(0020, 0032) Image Position (Patient)            DS: ['111.208', '111.2081', '-989.50']\n",
       "(0020, 0037) Image Orientation (Patient)         DS: ['-1.00000', '0.00000', '0.00000', '0.00000', '-1.00000', '0.00000']\n",
       "(0020, 0052) Frame of Reference UID              UI: 1.2.392.200036.9116.2.6.1.3268.2060387184.1556602135.429296\n",
       "(0020, 1040) Position Reference Indicator        LO: ''\n",
       "(0020, 1041) Slice Location                      DS: \"+0.00\"\n",
       "(0020, 4000) Image Comments                      LT: '\\\\'\n",
       "(0020, 9056) Stack ID                            SH: '1_3232_00001'\n",
       "(0020, 9057) In-Stack Position Number            UL: 1\n",
       "(0020, 9128) Temporal Position Index             UL: 1\n",
       "(0028, 0002) Samples per Pixel                   US: 1\n",
       "(0028, 0004) Photometric Interpretation          CS: 'MONOCHROME2'\n",
       "(0028, 0010) Rows                                US: 512\n",
       "(0028, 0011) Columns                             US: 512\n",
       "(0028, 0030) Pixel Spacing                       DS: ['0.435', '0.435']\n",
       "(0028, 0100) Bits Allocated                      US: 16\n",
       "(0028, 0101) Bits Stored                         US: 16\n",
       "(0028, 0102) High Bit                            US: 15\n",
       "(0028, 0103) Pixel Representation                US: 1\n",
       "(0028, 1050) Window Center                       DS: \"40\"\n",
       "(0028, 1051) Window Width                        DS: \"380\"\n",
       "(0028, 1052) Rescale Intercept                   DS: \"0\"\n",
       "(0028, 1053) Rescale Slope                       DS: \"1\"\n",
       "(0040, 0002) Scheduled Procedure Step Start Date DA: '20190430'\n",
       "(0040, 0003) Scheduled Procedure Step Start Time TM: '142153.000'\n",
       "(0040, 0004) Scheduled Procedure Step End Date   DA: '20190430'\n",
       "(0040, 0005) Scheduled Procedure Step End Time   TM: '145153.000'\n",
       "(0040, 0244) Performed Procedure Step Start Date DA: '20190430'\n",
       "(0040, 0245) Performed Procedure Step Start Time TM: '142153.000'\n",
       "(0040, 0253) Performed Procedure Step ID         SH: '8294'\n",
       "(7005, 0010) Private Creator                     LO: 'TOSHIBA_MEC_CT3'\n",
       "(7005, 1008) [Detector Slice Thickness in mm]    UN: b'1.0 '\n",
       "(7005, 1009) [Number of Detector rows to Reconst UN: b'1111111111111111'\n",
       "(7005, 100a) [Table Speed in mm/rot]             UN: b'-11.00'\n",
       "(7005, 100b) [Filter]                            UN: b'AIDR 3D STD '\n",
       "(7005, 100e) [File Type Remarks]                 UN: b'IMG '\n",
       "(7005, 100f) [Direction]                         UN: b'HF'\n",
       "(7005, 1011) [Series Comment]                    UN: b'Vol.'\n",
       "(7005, 1012) [Position]                          UN: b'PR'\n",
       "(7005, 1013) [Expert Plan No.]                   UN: b'\\x03\\x00'\n",
       "(7005, 1016) [Volume UID]                        UN: b'1.2.392.200036.9116.2.6.1.3268.2060387184.1556602563.700175\\x00'\n",
       "(7005, 1017) [Total Frame Count in the Volume]   UN: b'\\xbe\\x01'\n",
       "(7005, 1018) [Frame No.]                         UN: b'\\x01\\x00'\n",
       "(7005, 1019) [Frame Sort Key]                    UN: b'\\x0b\\x11\\x19\\x00'\n",
       "(7005, 101a) [Frame Sort Order]                  UN: b'\\x02\\x00'\n",
       "(7005, 101b) [Convolution Kernel]                UN: b'FC08'\n",
       "(7005, 101d) [Reconstruction Number]             UN: b'\\t\\x00\\x00\\x00'\n",
       "(7005, 101e) [Raw Data Number]                   UN: b'\\x01\\x00\\x00\\x00'\n",
       "(7005, 101f) [Volume Number]                     UN: b'20190430143603699447'\n",
       "(7005, 1020) [Local Series Number]               UN: b'\\x06\\x00\\x00\\x00'\n",
       "(7005, 1022) [Reconstruction Interval]           UN: b'0.80'\n",
       "(7005, 1023) [Pitch Factor]                      UN: b'0.688 '\n",
       "(7005, 1024) [The Acquisition Date of NRA]       UN: b'20190426'\n",
       "(7005, 1030) [Main Modality in Study]            UN: b'CT'\n",
       "(7005, 1040) [DLP Dose Length Product]           UN: b'33333\\xcb\\x86@'\n",
       "(7005, 1043) [Volume Vector]                     UN: b'0.00000\\\\0.00000\\\\-1.00000'\n",
       "(7005, 1063) Private tag data                    UN: b'\\x9a\\x99\\x99\\x99\\x99\\x193@'\n",
       "(7fe0, 0010) Pixel Data                          OW: Array of 524288 bytes"
      ]
     },
     "execution_count": 58,
     "metadata": {},
     "output_type": "execute_result"
    }
   ],
   "source": [
    "j = pydicom.read_file('D:\\\\dataset_seg\\\\Phantom_test_data\\\\SE00006\\\\IM00001')\n",
    "j"
   ]
  },
  {
   "cell_type": "code",
   "execution_count": 74,
   "metadata": {},
   "outputs": [],
   "source": []
  },
  {
   "cell_type": "code",
   "execution_count": 75,
   "metadata": {},
   "outputs": [
    {
     "data": {
      "text/plain": [
       "(-1.0, 0.0, 0.0, 0.0, -1.0, 0.0, 0.0, 0.0, -1.0)"
      ]
     },
     "execution_count": 75,
     "metadata": {},
     "output_type": "execute_result"
    }
   ],
   "source": [
    "img_direction\n"
   ]
  }
 ],
 "metadata": {
  "kernelspec": {
   "display_name": "Python 3",
   "language": "python",
   "name": "python3"
  },
  "language_info": {
   "codemirror_mode": {
    "name": "ipython",
    "version": 3
   },
   "file_extension": ".py",
   "mimetype": "text/x-python",
   "name": "python",
   "nbconvert_exporter": "python",
   "pygments_lexer": "ipython3",
   "version": "3.6.5"
  }
 },
 "nbformat": 4,
 "nbformat_minor": 2
}
