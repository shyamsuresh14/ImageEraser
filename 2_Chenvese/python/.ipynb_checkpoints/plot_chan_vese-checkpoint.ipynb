{
 "cells": [
  {
   "cell_type": "code",
   "execution_count": null,
   "metadata": {},
   "outputs": [],
   "source": [
    "%matplotlib inline"
   ]
  },
  {
   "cell_type": "markdown",
   "metadata": {},
   "source": [
    "\n",
    "# Chan-Vese Segmentation\n",
    "\n",
    "\n",
    "The Chan-Vese segmentation algorithm is designed to segment objects without\n",
    "clearly defined boundaries. This algorithm is based on level sets that are\n",
    "evolved iteratively to minimize an energy, which is defined by\n",
    "weighted values corresponding to the sum of differences intensity\n",
    "from the average value outside the segmented region, the sum of\n",
    "differences from the average value inside the segmented region, and a\n",
    "term which is dependent on the length of the boundary of the segmented\n",
    "region.\n",
    "\n",
    "This implementation of the algorithm is somewhat simplified in the\n",
    "sense that the area factor 'nu' described in the original paper is not\n",
    "implemented, and is only suitable for grayscale images.\n",
    "\n",
    "Typical values for ``lambda1`` and ``lambda2`` are 1. If the 'background' is\n",
    "very different from the segmented object in terms of distribution (for\n",
    "example, a uniform black image with figures of varying intensity), then\n",
    "these values should be different from each other.\n",
    "\n",
    "Typical values for ``mu`` are between 0 and 1, though higher values can be\n",
    "used when dealing with shapes with very ill-defined contours.\n",
    "\n",
    "The algorithm also returns a list of values that corresponds to the\n",
    "energy at each iteration. This can be used to adjust the various\n",
    "parameters described above.\n",
    "\n"
   ]
  },
  {
   "cell_type": "code",
   "execution_count": 1,
   "metadata": {},
   "outputs": [
    {
     "ename": "FileNotFoundError",
     "evalue": "[Errno 2] No such file or directory: '../images/brain_mri.jpg'",
     "output_type": "error",
     "traceback": [
      "\u001b[1;31m---------------------------------------------------------------------------\u001b[0m",
      "\u001b[1;31mFileNotFoundError\u001b[0m                         Traceback (most recent call last)",
      "\u001b[1;32m<ipython-input-1-2dda68ee53eb>\u001b[0m in \u001b[0;36m<module>\u001b[1;34m\u001b[0m\n\u001b[0;32m      7\u001b[0m \u001b[1;33m\u001b[0m\u001b[0m\n\u001b[0;32m      8\u001b[0m \u001b[1;31m#image = img_as_float(data.camera())\u001b[0m\u001b[1;33m\u001b[0m\u001b[1;33m\u001b[0m\u001b[0m\n\u001b[1;32m----> 9\u001b[1;33m \u001b[0mimage\u001b[0m \u001b[1;33m=\u001b[0m \u001b[0mio\u001b[0m\u001b[1;33m.\u001b[0m\u001b[0mimread\u001b[0m\u001b[1;33m(\u001b[0m\u001b[1;34m\"../images/brain_mri.jpg\"\u001b[0m\u001b[1;33m)\u001b[0m\u001b[1;33m\u001b[0m\u001b[0m\n\u001b[0m\u001b[0;32m     10\u001b[0m \u001b[0mimage\u001b[0m \u001b[1;33m=\u001b[0m \u001b[0mcv2\u001b[0m\u001b[1;33m.\u001b[0m\u001b[0mcvtColor\u001b[0m\u001b[1;33m(\u001b[0m\u001b[0mimage\u001b[0m\u001b[1;33m,\u001b[0m \u001b[0mcv2\u001b[0m\u001b[1;33m.\u001b[0m\u001b[0mCOLOR_RGB2GRAY\u001b[0m\u001b[1;33m)\u001b[0m\u001b[1;33m\u001b[0m\u001b[0m\n\u001b[0;32m     11\u001b[0m \u001b[1;33m\u001b[0m\u001b[0m\n",
      "\u001b[1;32m~\\AppData\\Local\\Programs\\Python\\Python36\\lib\\site-packages\\skimage\\io\\_io.py\u001b[0m in \u001b[0;36mimread\u001b[1;34m(fname, as_gray, plugin, flatten, **plugin_args)\u001b[0m\n\u001b[0;32m     60\u001b[0m \u001b[1;33m\u001b[0m\u001b[0m\n\u001b[0;32m     61\u001b[0m     \u001b[1;32mwith\u001b[0m \u001b[0mfile_or_url_context\u001b[0m\u001b[1;33m(\u001b[0m\u001b[0mfname\u001b[0m\u001b[1;33m)\u001b[0m \u001b[1;32mas\u001b[0m \u001b[0mfname\u001b[0m\u001b[1;33m:\u001b[0m\u001b[1;33m\u001b[0m\u001b[0m\n\u001b[1;32m---> 62\u001b[1;33m         \u001b[0mimg\u001b[0m \u001b[1;33m=\u001b[0m \u001b[0mcall_plugin\u001b[0m\u001b[1;33m(\u001b[0m\u001b[1;34m'imread'\u001b[0m\u001b[1;33m,\u001b[0m \u001b[0mfname\u001b[0m\u001b[1;33m,\u001b[0m \u001b[0mplugin\u001b[0m\u001b[1;33m=\u001b[0m\u001b[0mplugin\u001b[0m\u001b[1;33m,\u001b[0m \u001b[1;33m**\u001b[0m\u001b[0mplugin_args\u001b[0m\u001b[1;33m)\u001b[0m\u001b[1;33m\u001b[0m\u001b[0m\n\u001b[0m\u001b[0;32m     63\u001b[0m \u001b[1;33m\u001b[0m\u001b[0m\n\u001b[0;32m     64\u001b[0m     \u001b[1;32mif\u001b[0m \u001b[1;32mnot\u001b[0m \u001b[0mhasattr\u001b[0m\u001b[1;33m(\u001b[0m\u001b[0mimg\u001b[0m\u001b[1;33m,\u001b[0m \u001b[1;34m'ndim'\u001b[0m\u001b[1;33m)\u001b[0m\u001b[1;33m:\u001b[0m\u001b[1;33m\u001b[0m\u001b[0m\n",
      "\u001b[1;32m~\\AppData\\Local\\Programs\\Python\\Python36\\lib\\site-packages\\skimage\\io\\manage_plugins.py\u001b[0m in \u001b[0;36mcall_plugin\u001b[1;34m(kind, *args, **kwargs)\u001b[0m\n\u001b[0;32m    212\u001b[0m                                (plugin, kind))\n\u001b[0;32m    213\u001b[0m \u001b[1;33m\u001b[0m\u001b[0m\n\u001b[1;32m--> 214\u001b[1;33m     \u001b[1;32mreturn\u001b[0m \u001b[0mfunc\u001b[0m\u001b[1;33m(\u001b[0m\u001b[1;33m*\u001b[0m\u001b[0margs\u001b[0m\u001b[1;33m,\u001b[0m \u001b[1;33m**\u001b[0m\u001b[0mkwargs\u001b[0m\u001b[1;33m)\u001b[0m\u001b[1;33m\u001b[0m\u001b[0m\n\u001b[0m\u001b[0;32m    215\u001b[0m \u001b[1;33m\u001b[0m\u001b[0m\n\u001b[0;32m    216\u001b[0m \u001b[1;33m\u001b[0m\u001b[0m\n",
      "\u001b[1;32m~\\AppData\\Local\\Programs\\Python\\Python36\\lib\\site-packages\\skimage\\io\\_plugins\\pil_plugin.py\u001b[0m in \u001b[0;36mimread\u001b[1;34m(fname, dtype, img_num, **kwargs)\u001b[0m\n\u001b[0;32m     33\u001b[0m     \"\"\"\n\u001b[0;32m     34\u001b[0m     \u001b[1;32mif\u001b[0m \u001b[0misinstance\u001b[0m\u001b[1;33m(\u001b[0m\u001b[0mfname\u001b[0m\u001b[1;33m,\u001b[0m \u001b[0mstring_types\u001b[0m\u001b[1;33m)\u001b[0m\u001b[1;33m:\u001b[0m\u001b[1;33m\u001b[0m\u001b[0m\n\u001b[1;32m---> 35\u001b[1;33m         \u001b[1;32mwith\u001b[0m \u001b[0mopen\u001b[0m\u001b[1;33m(\u001b[0m\u001b[0mfname\u001b[0m\u001b[1;33m,\u001b[0m \u001b[1;34m'rb'\u001b[0m\u001b[1;33m)\u001b[0m \u001b[1;32mas\u001b[0m \u001b[0mf\u001b[0m\u001b[1;33m:\u001b[0m\u001b[1;33m\u001b[0m\u001b[0m\n\u001b[0m\u001b[0;32m     36\u001b[0m             \u001b[0mim\u001b[0m \u001b[1;33m=\u001b[0m \u001b[0mImage\u001b[0m\u001b[1;33m.\u001b[0m\u001b[0mopen\u001b[0m\u001b[1;33m(\u001b[0m\u001b[0mf\u001b[0m\u001b[1;33m)\u001b[0m\u001b[1;33m\u001b[0m\u001b[0m\n\u001b[0;32m     37\u001b[0m             \u001b[1;32mreturn\u001b[0m \u001b[0mpil_to_ndarray\u001b[0m\u001b[1;33m(\u001b[0m\u001b[0mim\u001b[0m\u001b[1;33m,\u001b[0m \u001b[0mdtype\u001b[0m\u001b[1;33m=\u001b[0m\u001b[0mdtype\u001b[0m\u001b[1;33m,\u001b[0m \u001b[0mimg_num\u001b[0m\u001b[1;33m=\u001b[0m\u001b[0mimg_num\u001b[0m\u001b[1;33m)\u001b[0m\u001b[1;33m\u001b[0m\u001b[0m\n",
      "\u001b[1;31mFileNotFoundError\u001b[0m: [Errno 2] No such file or directory: '../images/brain_mri.jpg'"
     ]
    }
   ],
   "source": [
    "import cv2\n",
    "import numpy as np\n",
    "import matplotlib.pyplot as plt\n",
    "from skimage import data, img_as_float, io\n",
    "from skimage.segmentation import chan_vese\n",
    "\n",
    "\n",
    "#image = img_as_float(data.camera())\n",
    "image = io.imread(\"../images/brain_mri.jpg\")\n",
    "image = cv2.cvtColor(image, cv2.COLOR_RGB2GRAY)\n",
    "\n",
    "# Feel free to play around with the parameters to see how they impact the result\n",
    "cv = chan_vese(image, mu=0.01, lambda1=1, lambda2=1, tol=1e-3, max_iter=200,\n",
    "               dt=0.5, init_level_set=\"checkerboard\", extended_output=True)\n",
    "\n",
    "fig, axes = plt.subplots(2, 2, figsize=(8, 8))\n",
    "ax = axes.flatten()\n",
    "\n",
    "ax[0].imshow(image, cmap=\"gray\")\n",
    "ax[0].set_axis_off()\n",
    "ax[0].set_title(\"Original Image\", fontsize=12)\n",
    "\n",
    "ax[1].imshow(cv[0], cmap=\"gray\")\n",
    "ax[1].set_axis_off()\n",
    "title = \"Chan-Vese segmentation - {} iterations\".format(len(cv[2]))\n",
    "ax[1].set_title(title, fontsize=12)\n",
    "\n",
    "ax[2].imshow(cv[1], cmap=\"gray\")\n",
    "ax[2].set_axis_off()\n",
    "ax[2].set_title(\"Final Level Set\", fontsize=12)\n",
    "\n",
    "ax[3].plot(cv[2])\n",
    "ax[3].set_title(\"Evolution of energy over iterations\", fontsize=12)\n",
    "\n",
    "fig.tight_layout()\n",
    "plt.show()"
   ]
  },
  {
   "cell_type": "code",
   "execution_count": 34,
   "metadata": {},
   "outputs": [
    {
     "name": "stdout",
     "output_type": "stream",
     "text": [
      "[[-5.71622447 -5.72751834 -5.73667629 ... -5.81805919 -5.77966673\n",
      "  -5.76534088]\n",
      " [-5.72604022 -5.72374955 -5.76732954 ... -5.84389862 -5.84544755\n",
      "  -5.83933353]\n",
      " [-5.75759548 -5.72093444 -5.754621   ... -5.8569297  -5.86295528\n",
      "  -5.8476549 ]\n",
      " ...\n",
      " [-5.74346026 -5.78723608 -5.78838854 ... -5.87624656 -5.86538457\n",
      "  -5.81525151]\n",
      " [-5.74412644 -5.78054865 -5.7788476  ... -5.87080952 -5.85909168\n",
      "  -5.81377605]\n",
      " [-5.73750832 -5.74996262 -5.7884417  ... -5.15988235 -5.84755547\n",
      "  -5.80697381]]\n",
      "[5081.092468490222, 5081.116167852313, 5025.808988729751, 5046.852751088909, 5043.966447276683, 5027.049821081197, 4999.101518332606, 4952.568557138315, 4888.142908613132, 4804.992755294237, 4704.867388168729, 4579.938352902984, 4439.827162268616, 4306.613395974643, 4182.180002473333, 4056.1759314453807, 3939.847483920953, 3833.082346415156, 3737.5593218304725, 3654.171554510409, 3577.625497621712, 3514.6471048163694, 3453.565650886973, 3398.5558803877543, 3348.026366052789, 3297.8275501416306, 3248.8327529131293, 3206.2605479805893, 3166.8419786514337, 3130.1222925807706, 3095.3742124789424, 3066.408330578872, 3039.1914552091307, 3013.059512805345, 2988.311585543148, 2983.0005083009983, 2974.3504339042656, 2947.7248639605564, 2923.0735441545085, 2901.1835153281368, 2880.3568164729463, 2860.2751199654713, 2841.150838927571, 2824.7202334428634, 2808.6104345309386, 2789.0416025360346, 2769.19883310531, 2705.8981435513992, 2644.3924549111257, 2675.061445983595, 2635.1885581170286, 2626.51633923385, 2660.944550739627, 2690.147286842089, 2659.3183866665, 2615.702691075544, 2575.771123061022, 2582.8269015328037, 2583.7016688344156, 2587.1387910950616, 2581.6338751490866, 2570.9847569799626, 2554.1975195447285, 2538.957124190917, 2533.444161533477, 2515.6716373875424, 2524.8874185608292, 2525.0558841079987, 2472.1416500970063, 2483.6616738508665, 2492.6836633386292, 2495.2350032258505, 2446.730318543136, 2431.5647715139958, 2429.1763537526913, 2427.0062837009677, 2421.355825856767, 2412.9018775629725, 2405.348851181968, 2397.7006297913154, 2389.075069049929, 2379.135863746216, 2370.440848834779, 2371.2094550242623, 2367.7417691090227, 2365.62143611135, 2358.0483899967326, 2352.8277387056028, 2345.357228302049, 2339.206305937573, 2333.804582245854, 2330.02892309577, 2326.488286844568, 2324.0838781372117, 2320.077312326782, 2314.2406629179504, 2310.203795663739, 2307.6056148374355, 2303.1269492966785, 2297.586638306877, 2293.0277472482007, 2288.0294640855705, 2284.010260847898, 2280.6991616577257, 2277.781460136678, 2274.890139865478, 2271.7274266722548, 2269.5915230030873, 2266.803008405353, 2262.483516350218, 2258.3220251772464, 2255.108990736432, 2251.86228456391, 2247.260036311516, 2243.7225856093723, 2239.8805456225923, 2235.8420245537473, 2231.486603518793, 2227.228028293458, 2222.824528804504, 2219.1524531528976, 2215.482674638031, 2212.6399966162285, 2208.951305568186, 2204.9024053366306, 2200.6841073238857, 2197.0672696549977, 2193.2353758936597, 2189.6997998617044, 2185.8756844314566, 2181.2775812364957, 2176.4948928681138, 2170.811587270178, 2167.4157434435424, 2164.1593532079423, 2160.2556470073664, 2156.8866493410455, 2152.9012911498753, 2149.4334740034014, 2146.2882198890325, 2144.019184706884, 2141.2468785784877, 2138.9328194040813, 2136.5590339638666, 2133.340376567012, 2130.5439066687622, 2127.7021381201093, 2124.6548517095794, 2121.133375629177, 2117.792052275505, 2114.4150380505084, 2110.925426853231, 2107.7868188537605, 2104.8881631902455, 2101.991246448515, 2099.5550751706287, 2097.3686862202253, 2095.0004928536337, 2092.6830868659194, 2091.2306084238476, 2089.230125497536, 2087.023349470526, 2084.9489642351664, 2082.199269529999, 2079.4286295710963, 2076.8361817495515, 2073.7233245597713, 2070.679818582599, 2068.128394516236, 2064.698173005912, 2062.2005838007312, 2060.972345636767, 2058.988743390109, 2056.9075456307082, 2054.6948272456307, 2052.229243289711, 2049.944213664292, 2047.5868708913652, 2044.7904195368567, 2041.8379971743573, 2039.3513723713263, 2036.607756523356, 2033.888619676283, 2031.7104543929556, 2029.4795092888337, 2027.6369431276817, 2025.4050510642153, 2022.9107488613092, 2020.7168992989305, 2018.9528818946146, 2017.6458763472317, 2016.2699921960977, 2014.55860897567, 2012.5857310477484, 2010.66276579613, 2008.198022038042, 2006.0738657833242, 2004.3661720192172, 2002.9917643008312, 2001.8761447460438]\n"
     ]
    }
   ],
   "source": [
    "print(cv[1])\n",
    "print(cv[2])"
   ]
  },
  {
   "cell_type": "code",
   "execution_count": 31,
   "metadata": {},
   "outputs": [
    {
     "name": "stdout",
     "output_type": "stream",
     "text": [
      "(194, 259)\n",
      "(194, 259, 2)\n"
     ]
    }
   ],
   "source": [
    "import cv2\n",
    "im = io.imread(\"images/brain_mri.jpg\")\n",
    "print(cv2.cvtColor(im, cv2.COLOR_RGB2GRAY).shape)\n",
    "#print(image.shape)\n",
    "print(indices.shape)"
   ]
  }
 ],
 "metadata": {
  "kernelspec": {
   "display_name": "Python 3",
   "language": "python",
   "name": "python3"
  },
  "language_info": {
   "codemirror_mode": {
    "name": "ipython",
    "version": 3
   },
   "file_extension": ".py",
   "mimetype": "text/x-python",
   "name": "python",
   "nbconvert_exporter": "python",
   "pygments_lexer": "ipython3",
   "version": "3.6.5"
  }
 },
 "nbformat": 4,
 "nbformat_minor": 1
}
